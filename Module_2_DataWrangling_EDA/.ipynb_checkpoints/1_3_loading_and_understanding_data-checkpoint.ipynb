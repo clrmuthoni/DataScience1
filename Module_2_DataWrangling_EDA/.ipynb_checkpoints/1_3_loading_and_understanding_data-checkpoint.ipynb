{
 "cells": [
  {
   "cell_type": "markdown",
   "metadata": {},
   "source": [
    "# Module 1: Introduction to Exploratory Analysis "
   ]
  },
  {
   "cell_type": "markdown",
   "metadata": {},
   "source": [
    "What we'll be doing in this notebook:\n",
    "-----\n",
    "\n",
    " 1.  Checking variable type\n",
    " 2.  Checking for missing variables \n",
    " 3.  Number of observations in the dataset\n",
    " 4.  Descriptive statistics"
   ]
  },
  {
   "cell_type": "markdown",
   "metadata": {},
   "source": [
    "### Import packages"
   ]
  },
  {
   "cell_type": "code",
   "execution_count": 1,
   "metadata": {},
   "outputs": [],
   "source": [
    "import pandas as pd\n",
    "import numpy as np\n",
    "import seaborn as sns\n",
    "import matplotlib.pyplot as plt\n",
    "from datetime import datetime\n",
    "import dateutil.parser\n",
    "\n",
    "# The command below means that the output of multiple commands in a cell will be output at once\n",
    "from IPython.core.interactiveshell import InteractiveShell\n",
    "InteractiveShell.ast_node_interactivity = \"all\"\n",
    "\n",
    "# The command below tells jupyter to display up to 80 columns, this keeps everything visible\n",
    "pd.set_option('display.max_columns', 80)\n",
    "pd.set_option('expand_frame_repr', True)\n",
    "\n",
    "# Show figures in notebook\n",
    "%matplotlib inline"
   ]
  },
  {
   "cell_type": "markdown",
   "metadata": {},
   "source": [
    "### Import dataset"
   ]
  },
  {
   "cell_type": "markdown",
   "metadata": {},
   "source": [
    "We read in our dataset"
   ]
  },
  {
   "cell_type": "code",
   "execution_count": 53,
   "metadata": {},
   "outputs": [],
   "source": [
    "path = '/home/catherine/Desktop/'\n",
    "filename = 'DS_B/data/loans.csv'\n",
    "\n",
    "df = pd.read_csv(path+filename)"
   ]
  },
  {
   "cell_type": "markdown",
   "metadata": {},
   "source": [
    "In the cell below, we take a random sample of 2 rows to get a feel for the data."
   ]
  },
  {
   "cell_type": "code",
   "execution_count": 54,
   "metadata": {},
   "outputs": [
    {
     "data": {
      "text/html": [
       "<div>\n",
       "<style scoped>\n",
       "    .dataframe tbody tr th:only-of-type {\n",
       "        vertical-align: middle;\n",
       "    }\n",
       "\n",
       "    .dataframe tbody tr th {\n",
       "        vertical-align: top;\n",
       "    }\n",
       "\n",
       "    .dataframe thead th {\n",
       "        text-align: right;\n",
       "    }\n",
       "</style>\n",
       "<table border=\"1\" class=\"dataframe\">\n",
       "  <thead>\n",
       "    <tr style=\"text-align: right;\">\n",
       "      <th></th>\n",
       "      <th>id_number</th>\n",
       "      <th>loan_amount</th>\n",
       "      <th>lender_count</th>\n",
       "      <th>status</th>\n",
       "      <th>funded_date</th>\n",
       "      <th>funded_amount</th>\n",
       "      <th>repayment_term</th>\n",
       "      <th>location_country_code</th>\n",
       "      <th>sector</th>\n",
       "      <th>description</th>\n",
       "      <th>use</th>\n",
       "    </tr>\n",
       "  </thead>\n",
       "  <tbody>\n",
       "    <tr>\n",
       "      <th>5502</th>\n",
       "      <td>1484334</td>\n",
       "      <td>1450</td>\n",
       "      <td>32</td>\n",
       "      <td>funded</td>\n",
       "      <td>2018-03-09T03:09:53Z</td>\n",
       "      <td>1450</td>\n",
       "      <td>9</td>\n",
       "      <td>ZM</td>\n",
       "      <td>Services</td>\n",
       "      <td>Thandiwe is very excited to be getting her fou...</td>\n",
       "      <td>to increase the float in several of Thandiwe's...</td>\n",
       "    </tr>\n",
       "    <tr>\n",
       "      <th>2867</th>\n",
       "      <td>1512505</td>\n",
       "      <td>4125</td>\n",
       "      <td>89</td>\n",
       "      <td>funded</td>\n",
       "      <td>2018-05-01T09:04:34Z</td>\n",
       "      <td>4125</td>\n",
       "      <td>9</td>\n",
       "      <td>ML</td>\n",
       "      <td>Agriculture</td>\n",
       "      <td>Niama is the one holding onto the sheep. She i...</td>\n",
       "      <td>to buy sheep for resale.</td>\n",
       "    </tr>\n",
       "  </tbody>\n",
       "</table>\n",
       "</div>"
      ],
      "text/plain": [
       "      id_number  loan_amount  lender_count  status           funded_date  \\\n",
       "5502    1484334         1450            32  funded  2018-03-09T03:09:53Z   \n",
       "2867    1512505         4125            89  funded  2018-05-01T09:04:34Z   \n",
       "\n",
       "      funded_amount  repayment_term location_country_code       sector  \\\n",
       "5502           1450               9                    ZM     Services   \n",
       "2867           4125               9                    ML  Agriculture   \n",
       "\n",
       "                                            description  \\\n",
       "5502  Thandiwe is very excited to be getting her fou...   \n",
       "2867  Niama is the one holding onto the sheep. She i...   \n",
       "\n",
       "                                                    use  \n",
       "5502  to increase the float in several of Thandiwe's...  \n",
       "2867                           to buy sheep for resale.  "
      ]
     },
     "execution_count": 54,
     "metadata": {},
     "output_type": "execute_result"
    }
   ],
   "source": [
    "df.sample(n=2)"
   ]
  },
  {
   "cell_type": "markdown",
   "metadata": {},
   "source": [
    "### 1) Type Checking\n",
    "<a id='type_check'></a>"
   ]
  },
  {
   "cell_type": "markdown",
   "metadata": {},
   "source": [
    "Type is very important in Python programing, because it affects the types of functions you can apply to a series. There are a few different types of data you will see regularly (see [this](https://en.wikibooks.org/wiki/Python_Programming/Data_Types) link for more detail):\n",
    "* **int** - a number with no decimal places. example: loan_amount field\n",
    "* **float** - a number with decimal places. example: partner_id field\n",
    "* **str** - str is short for string. This type formally defined as a sequence of unicode characters. More simply, string means that the data is treated as a word, not a number. example: sector\n",
    "* **boolean** - can only be True or False. There is not currently an example in the data, but we will be creating a gender field shortly.\n",
    "* **datetime** - values meant to hold time data. Example: posted_date\n",
    "\n",
    "Let's check the type of our variables using the examples we saw in the cell above."
   ]
  },
  {
   "cell_type": "code",
   "execution_count": 55,
   "metadata": {},
   "outputs": [
    {
     "data": {
      "text/plain": [
       "['id_number',\n",
       " 'loan_amount',\n",
       " 'lender_count',\n",
       " 'status',\n",
       " 'funded_date',\n",
       " 'funded_amount',\n",
       " 'repayment_term',\n",
       " 'location_country_code',\n",
       " 'sector',\n",
       " 'description',\n",
       " 'use']"
      ]
     },
     "execution_count": 55,
     "metadata": {},
     "output_type": "execute_result"
    }
   ],
   "source": [
    "# Here are all of the columns\n",
    "df.columns.tolist()"
   ]
  },
  {
   "cell_type": "code",
   "execution_count": 56,
   "metadata": {},
   "outputs": [
    {
     "data": {
      "text/plain": [
       "dtype('int64')"
      ]
     },
     "execution_count": 56,
     "metadata": {},
     "output_type": "execute_result"
    }
   ],
   "source": [
    "# Find the dtype, aka datatype, for a column\n",
    "df['id_number'].dtype"
   ]
  },
  {
   "cell_type": "code",
   "execution_count": 57,
   "metadata": {},
   "outputs": [],
   "source": [
    "# Try this - Pick a couple of columns and check their type on your own\n"
   ]
  },
  {
   "cell_type": "markdown",
   "metadata": {},
   "source": [
    "### 2) Do I have missing values?\n",
    "\n",
    "<a id='missing_check'></a>"
   ]
  },
  {
   "cell_type": "markdown",
   "metadata": {},
   "source": [
    "Missing data in the training data set can reduce the power / fit of a model or can lead to a biased model because we have not analysed the behavior and relationship with other variables correctly. It can lead to wrong prediction or classification."
   ]
  },
  {
   "cell_type": "markdown",
   "metadata": {},
   "source": [
    "If we have missing data, is the missing data at random or not? If data is missing at random, the data distribution is still representative of the population. You can probably ignore the missing values as an inconvenience. However, if the data is systematically missing, the analysis you do may be biased. You should carefully consider the best way to clean the data, it may involve dropping some data."
   ]
  },
  {
   "cell_type": "markdown",
   "metadata": {},
   "source": [
    "We want to see how many values are missing in certain variable columns. One way to do this is to count the number of null observations. \n",
    "\n",
    "For this, we wrote a short function to apply to the dataframe. \n",
    "\n",
    "We print out the first few observations, but you can remove the .head() to print out all columns. "
   ]
  },
  {
   "cell_type": "code",
   "execution_count": 58,
   "metadata": {},
   "outputs": [
    {
     "name": "stdout",
     "output_type": "stream",
     "text": [
      "Missing values per column:\n",
      "funded_date              937.0\n",
      "location_country_code     17.0\n",
      "description              342.0\n",
      "use                      342.0\n",
      "dtype: float64\n"
     ]
    }
   ],
   "source": [
    "#Create a new function:\n",
    "def num_missing(x):\n",
    "    return sum(x.isnull())\n",
    "\n",
    "#Applying per column:\n",
    "print(\"Missing values per column:\")\n",
    "## Check how many are missing by column, and then check which ones have any missing values\n",
    "print(df.apply(num_missing, axis=0).where(lambda x : x != 0).dropna()) \n",
    "#axis=0 defines that function is to be applied on each column"
   ]
  },
  {
   "cell_type": "code",
   "execution_count": 59,
   "metadata": {},
   "outputs": [
    {
     "data": {
      "text/html": [
       "<div>\n",
       "<style scoped>\n",
       "    .dataframe tbody tr th:only-of-type {\n",
       "        vertical-align: middle;\n",
       "    }\n",
       "\n",
       "    .dataframe tbody tr th {\n",
       "        vertical-align: top;\n",
       "    }\n",
       "\n",
       "    .dataframe thead th {\n",
       "        text-align: right;\n",
       "    }\n",
       "</style>\n",
       "<table border=\"1\" class=\"dataframe\">\n",
       "  <thead>\n",
       "    <tr style=\"text-align: right;\">\n",
       "      <th></th>\n",
       "      <th>Total</th>\n",
       "      <th>Percent</th>\n",
       "    </tr>\n",
       "  </thead>\n",
       "  <tbody>\n",
       "    <tr>\n",
       "      <th>funded_date</th>\n",
       "      <td>937</td>\n",
       "      <td>0.155674</td>\n",
       "    </tr>\n",
       "    <tr>\n",
       "      <th>use</th>\n",
       "      <td>342</td>\n",
       "      <td>0.056820</td>\n",
       "    </tr>\n",
       "    <tr>\n",
       "      <th>description</th>\n",
       "      <td>342</td>\n",
       "      <td>0.056820</td>\n",
       "    </tr>\n",
       "    <tr>\n",
       "      <th>location_country_code</th>\n",
       "      <td>17</td>\n",
       "      <td>0.002824</td>\n",
       "    </tr>\n",
       "    <tr>\n",
       "      <th>sector</th>\n",
       "      <td>0</td>\n",
       "      <td>0.000000</td>\n",
       "    </tr>\n",
       "    <tr>\n",
       "      <th>repayment_term</th>\n",
       "      <td>0</td>\n",
       "      <td>0.000000</td>\n",
       "    </tr>\n",
       "    <tr>\n",
       "      <th>funded_amount</th>\n",
       "      <td>0</td>\n",
       "      <td>0.000000</td>\n",
       "    </tr>\n",
       "    <tr>\n",
       "      <th>status</th>\n",
       "      <td>0</td>\n",
       "      <td>0.000000</td>\n",
       "    </tr>\n",
       "    <tr>\n",
       "      <th>lender_count</th>\n",
       "      <td>0</td>\n",
       "      <td>0.000000</td>\n",
       "    </tr>\n",
       "    <tr>\n",
       "      <th>loan_amount</th>\n",
       "      <td>0</td>\n",
       "      <td>0.000000</td>\n",
       "    </tr>\n",
       "    <tr>\n",
       "      <th>id_number</th>\n",
       "      <td>0</td>\n",
       "      <td>0.000000</td>\n",
       "    </tr>\n",
       "  </tbody>\n",
       "</table>\n",
       "</div>"
      ],
      "text/plain": [
       "                       Total   Percent\n",
       "funded_date              937  0.155674\n",
       "use                      342  0.056820\n",
       "description              342  0.056820\n",
       "location_country_code     17  0.002824\n",
       "sector                     0  0.000000\n",
       "repayment_term             0  0.000000\n",
       "funded_amount              0  0.000000\n",
       "status                     0  0.000000\n",
       "lender_count               0  0.000000\n",
       "loan_amount                0  0.000000\n",
       "id_number                  0  0.000000"
      ]
     },
     "execution_count": 59,
     "metadata": {},
     "output_type": "execute_result"
    }
   ],
   "source": [
    "#checking the % of missing values\n",
    "total = df.isnull().sum().sort_values(ascending = False)\n",
    "\n",
    "percent = (df.isnull().sum()/df.isnull().count()).sort_values(ascending = False)\n",
    "\n",
    "missing_kiva_loans_data  = pd.concat([total, percent], axis=1, keys=['Total', 'Percent'])\n",
    "missing_kiva_loans_data"
   ]
  },
  {
   "cell_type": "markdown",
   "metadata": {},
   "source": [
    "### 3) Sanity Checks\n",
    "<a id='obs_check'></a>"
   ]
  },
  {
   "cell_type": "markdown",
   "metadata": {},
   "source": [
    "**Does the dataset match what you expected to find?**\n",
    "- is the range of values what you would expect. For example, are all loan_amounts above 0.\n",
    "- do you have the number of rows you would expect\n",
    "- is your data for the date range what you would expect. For example, is there a strange year in the data like 1880.\n",
    "- are there unexpected spikes when you plot the data over time\n",
    "\n",
    "\n",
    "In the command below we find out the number of rows and number of columns by using the function shape. You can also use len(df.index) to find the number of rows."
   ]
  },
  {
   "cell_type": "code",
   "execution_count": 60,
   "metadata": {},
   "outputs": [
    {
     "name": "stdout",
     "output_type": "stream",
     "text": [
      "There are 6019 observations and 11 features\n"
     ]
    }
   ],
   "source": [
    "print(f'There are {df.shape[0]} observations and {df.shape[1]} features')"
   ]
  },
  {
   "cell_type": "markdown",
   "metadata": {},
   "source": [
    "Remember, each row is an observation and each column is a potential feature. \n",
    "\n",
    "Remember we need a large amount of data for machine learning."
   ]
  },
  {
   "cell_type": "markdown",
   "metadata": {},
   "source": [
    "### 4) Descriptive statistics of the dataset\n",
    "\n",
    "<a id='desc_stats'></a>"
   ]
  },
  {
   "cell_type": "code",
   "execution_count": 61,
   "metadata": {},
   "outputs": [],
   "source": [
    "#Try out - Write code that provides key summary statistics for each numeric column."
   ]
  },
  {
   "cell_type": "markdown",
   "metadata": {},
   "source": [
    "In order to get the same summary statistics for categorical columns (string) we need to do a little data wrangling. The first line of code filters for all columns that are a data type object. As we know from before this means they are considered to be a string. The final row of code provides summary statistics for these character fields."
   ]
  },
  {
   "cell_type": "code",
   "execution_count": 62,
   "metadata": {},
   "outputs": [
    {
     "data": {
      "text/html": [
       "<div>\n",
       "<style scoped>\n",
       "    .dataframe tbody tr th:only-of-type {\n",
       "        vertical-align: middle;\n",
       "    }\n",
       "\n",
       "    .dataframe tbody tr th {\n",
       "        vertical-align: top;\n",
       "    }\n",
       "\n",
       "    .dataframe thead th {\n",
       "        text-align: right;\n",
       "    }\n",
       "</style>\n",
       "<table border=\"1\" class=\"dataframe\">\n",
       "  <thead>\n",
       "    <tr style=\"text-align: right;\">\n",
       "      <th></th>\n",
       "      <th>status</th>\n",
       "      <th>funded_date</th>\n",
       "      <th>location_country_code</th>\n",
       "      <th>sector</th>\n",
       "      <th>description</th>\n",
       "      <th>use</th>\n",
       "    </tr>\n",
       "  </thead>\n",
       "  <tbody>\n",
       "    <tr>\n",
       "      <th>count</th>\n",
       "      <td>6019</td>\n",
       "      <td>5082</td>\n",
       "      <td>6002</td>\n",
       "      <td>6019</td>\n",
       "      <td>5677</td>\n",
       "      <td>5677</td>\n",
       "    </tr>\n",
       "    <tr>\n",
       "      <th>unique</th>\n",
       "      <td>3</td>\n",
       "      <td>4453</td>\n",
       "      <td>30</td>\n",
       "      <td>14</td>\n",
       "      <td>5277</td>\n",
       "      <td>4325</td>\n",
       "    </tr>\n",
       "    <tr>\n",
       "      <th>top</th>\n",
       "      <td>funded</td>\n",
       "      <td>2018-07-22T15:54:41Z</td>\n",
       "      <td>TZ</td>\n",
       "      <td>Food</td>\n",
       "      <td>With the income produced during the previous l...</td>\n",
       "      <td>to pay for a stove.</td>\n",
       "    </tr>\n",
       "    <tr>\n",
       "      <th>freq</th>\n",
       "      <td>5082</td>\n",
       "      <td>9</td>\n",
       "      <td>400</td>\n",
       "      <td>1738</td>\n",
       "      <td>2</td>\n",
       "      <td>80</td>\n",
       "    </tr>\n",
       "  </tbody>\n",
       "</table>\n",
       "</div>"
      ],
      "text/plain": [
       "        status           funded_date location_country_code sector  \\\n",
       "count     6019                  5082                  6002   6019   \n",
       "unique       3                  4453                    30     14   \n",
       "top     funded  2018-07-22T15:54:41Z                    TZ   Food   \n",
       "freq      5082                     9                   400   1738   \n",
       "\n",
       "                                              description                  use  \n",
       "count                                                5677                 5677  \n",
       "unique                                               5277                 4325  \n",
       "top     With the income produced during the previous l...  to pay for a stove.  \n",
       "freq                                                    2                   80  "
      ]
     },
     "execution_count": 62,
     "metadata": {},
     "output_type": "execute_result"
    }
   ],
   "source": [
    "categorical = df.dtypes[df.dtypes == \"object\"].index\n",
    "df[categorical].describe()"
   ]
  },
  {
   "cell_type": "code",
   "execution_count": 63,
   "metadata": {},
   "outputs": [],
   "source": [
    "#Try out - What's the other way one can obtain the information above?"
   ]
  },
  {
   "cell_type": "markdown",
   "metadata": {},
   "source": [
    "In the table above, there are 4 really useful fields: \n",
    "\n",
    "1) **count** - total number of fields populated (Not empty). \n",
    "\n",
    "2) **unique** - tells us how many different unique ways this field is populated.\n",
    "\n",
    "3) **top** - tells us the most popular data point.\n",
    "\n",
    "4) **freq** - tells us that how frequent the most popular category is in our dataset. "
   ]
  },
  {
   "cell_type": "markdown",
   "metadata": {},
   "source": [
    "What is next\n",
    "-----\n",
    "\n",
    "In the next section, we move on to exploratory data analysis (EDA)."
   ]
  },
  {
   "cell_type": "markdown",
   "metadata": {},
   "source": [
    "<br>\n",
    "<br> \n",
    "<br>\n",
    "\n",
    "----"
   ]
  }
 ],
 "metadata": {
  "kernelspec": {
   "display_name": "Python 3",
   "language": "python",
   "name": "python3"
  },
  "language_info": {
   "codemirror_mode": {
    "name": "ipython",
    "version": 3
   },
   "file_extension": ".py",
   "mimetype": "text/x-python",
   "name": "python",
   "nbconvert_exporter": "python",
   "pygments_lexer": "ipython3",
   "version": "3.6.2"
  }
 },
 "nbformat": 4,
 "nbformat_minor": 2
}
